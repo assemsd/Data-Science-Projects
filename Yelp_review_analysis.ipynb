{
 "cells": [
  {
   "cell_type": "markdown",
   "metadata": {},
   "source": [
    "# Yelp Review Analysis"
   ]
  },
  {
   "cell_type": "markdown",
   "metadata": {},
   "source": [
    "I am a consultant for DelFalco's Itaian Restaurant. The owner asked ,e to identify whether there are any foods on their menu that diners find disappointing."
   ]
  },
  {
   "cell_type": "code",
   "execution_count": 1,
   "metadata": {},
   "outputs": [],
   "source": [
    "import pandas as pd"
   ]
  },
  {
   "cell_type": "markdown",
   "metadata": {},
   "source": [
    "The business owner suggested me use diner reviews from the Yelp website to determine which dishes people liked and disliked. I pulled the data from Yelp. Before I get to analysis, let's look at the data I have to work with."
   ]
  },
  {
   "cell_type": "code",
   "execution_count": 2,
   "metadata": {},
   "outputs": [
    {
     "data": {
      "text/html": [
       "<div>\n",
       "<style scoped>\n",
       "    .dataframe tbody tr th:only-of-type {\n",
       "        vertical-align: middle;\n",
       "    }\n",
       "\n",
       "    .dataframe tbody tr th {\n",
       "        vertical-align: top;\n",
       "    }\n",
       "\n",
       "    .dataframe thead th {\n",
       "        text-align: right;\n",
       "    }\n",
       "</style>\n",
       "<table border=\"1\" class=\"dataframe\">\n",
       "  <thead>\n",
       "    <tr style=\"text-align: right;\">\n",
       "      <th></th>\n",
       "      <th>review_id</th>\n",
       "      <th>user_id</th>\n",
       "      <th>business_id</th>\n",
       "      <th>stars</th>\n",
       "      <th>useful</th>\n",
       "      <th>funny</th>\n",
       "      <th>cool</th>\n",
       "      <th>text</th>\n",
       "      <th>date</th>\n",
       "    </tr>\n",
       "  </thead>\n",
       "  <tbody>\n",
       "    <tr>\n",
       "      <th>109</th>\n",
       "      <td>lDJIaF4eYRF4F7g6Zb9euw</td>\n",
       "      <td>lb0QUR5bc4O-Am4hNq9ZGg</td>\n",
       "      <td>r5PLDU-4mSbde5XekTXSCA</td>\n",
       "      <td>4</td>\n",
       "      <td>2</td>\n",
       "      <td>0</td>\n",
       "      <td>0</td>\n",
       "      <td>I used to work food service and my manager at ...</td>\n",
       "      <td>2013-01-27 17:54:54</td>\n",
       "    </tr>\n",
       "    <tr>\n",
       "      <th>1013</th>\n",
       "      <td>vvIzf3pr8lTqE_AOsxmgaA</td>\n",
       "      <td>MAmijW4ooUzujkufYYLMeQ</td>\n",
       "      <td>r5PLDU-4mSbde5XekTXSCA</td>\n",
       "      <td>4</td>\n",
       "      <td>0</td>\n",
       "      <td>0</td>\n",
       "      <td>0</td>\n",
       "      <td>We have been trying Eggplant sandwiches all ov...</td>\n",
       "      <td>2015-04-15 04:50:56</td>\n",
       "    </tr>\n",
       "    <tr>\n",
       "      <th>1204</th>\n",
       "      <td>UF-JqzMczZ8vvp_4tPK3bQ</td>\n",
       "      <td>slfi6gf_qEYTXy90Sw93sg</td>\n",
       "      <td>r5PLDU-4mSbde5XekTXSCA</td>\n",
       "      <td>5</td>\n",
       "      <td>1</td>\n",
       "      <td>0</td>\n",
       "      <td>0</td>\n",
       "      <td>Amazing Steak and Cheese... Better than any Ph...</td>\n",
       "      <td>2011-03-20 00:57:45</td>\n",
       "    </tr>\n",
       "    <tr>\n",
       "      <th>1251</th>\n",
       "      <td>geUJGrKhXynxDC2uvERsLw</td>\n",
       "      <td>N_-UepOzAsuDQwOUtfRFGw</td>\n",
       "      <td>r5PLDU-4mSbde5XekTXSCA</td>\n",
       "      <td>1</td>\n",
       "      <td>0</td>\n",
       "      <td>0</td>\n",
       "      <td>0</td>\n",
       "      <td>Although I have been going to DeFalco's for ye...</td>\n",
       "      <td>2018-07-17 01:48:23</td>\n",
       "    </tr>\n",
       "    <tr>\n",
       "      <th>1354</th>\n",
       "      <td>aPctXPeZW3kDq36TRm-CqA</td>\n",
       "      <td>139hD7gkZVzSvSzDPwhNNw</td>\n",
       "      <td>r5PLDU-4mSbde5XekTXSCA</td>\n",
       "      <td>2</td>\n",
       "      <td>0</td>\n",
       "      <td>0</td>\n",
       "      <td>0</td>\n",
       "      <td>Highs: Ambience, value, pizza and deserts. Thi...</td>\n",
       "      <td>2018-01-21 10:52:58</td>\n",
       "    </tr>\n",
       "  </tbody>\n",
       "</table>\n",
       "</div>"
      ],
      "text/plain": [
       "                   review_id                 user_id             business_id  \\\n",
       "109   lDJIaF4eYRF4F7g6Zb9euw  lb0QUR5bc4O-Am4hNq9ZGg  r5PLDU-4mSbde5XekTXSCA   \n",
       "1013  vvIzf3pr8lTqE_AOsxmgaA  MAmijW4ooUzujkufYYLMeQ  r5PLDU-4mSbde5XekTXSCA   \n",
       "1204  UF-JqzMczZ8vvp_4tPK3bQ  slfi6gf_qEYTXy90Sw93sg  r5PLDU-4mSbde5XekTXSCA   \n",
       "1251  geUJGrKhXynxDC2uvERsLw  N_-UepOzAsuDQwOUtfRFGw  r5PLDU-4mSbde5XekTXSCA   \n",
       "1354  aPctXPeZW3kDq36TRm-CqA  139hD7gkZVzSvSzDPwhNNw  r5PLDU-4mSbde5XekTXSCA   \n",
       "\n",
       "      stars  useful  funny  cool  \\\n",
       "109       4       2      0     0   \n",
       "1013      4       0      0     0   \n",
       "1204      5       1      0     0   \n",
       "1251      1       0      0     0   \n",
       "1354      2       0      0     0   \n",
       "\n",
       "                                                   text                date  \n",
       "109   I used to work food service and my manager at ... 2013-01-27 17:54:54  \n",
       "1013  We have been trying Eggplant sandwiches all ov... 2015-04-15 04:50:56  \n",
       "1204  Amazing Steak and Cheese... Better than any Ph... 2011-03-20 00:57:45  \n",
       "1251  Although I have been going to DeFalco's for ye... 2018-07-17 01:48:23  \n",
       "1354  Highs: Ambience, value, pizza and deserts. Thi... 2018-01-21 10:52:58  "
      ]
     },
     "execution_count": 2,
     "metadata": {},
     "output_type": "execute_result"
    }
   ],
   "source": [
    "# Load in the data from JSON file\n",
    "data = pd.read_json(\"restaurant.json\")\n",
    "data.head()"
   ]
  },
  {
   "cell_type": "markdown",
   "metadata": {},
   "source": [
    "The owner also gave me this list of menu items and common alternate spellings."
   ]
  },
  {
   "cell_type": "code",
   "execution_count": 3,
   "metadata": {},
   "outputs": [],
   "source": [
    "menu = [\"Cheese Steak\", \"Cheesesteak\", \"Steak and Cheese\", \"Italian Combo\", \"Tiramisu\", \"Cannoli\",\n",
    "        \"Chicken Salad\", \"Chicken Spinach Salad\", \"Meatball\", \"Pizza\", \"Pizzas\", \"Spaghetti\",\n",
    "        \"Bruchetta\", \"Eggplant\", \"Italian Beef\", \"Purista\", \"Pasta\", \"Calzones\",  \"Calzone\",\n",
    "        \"Italian Sausage\", \"Chicken Cutlet\", \"Chicken Parm\", \"Chicken Parmesan\", \"Gnocchi\",\n",
    "        \"Chicken Pesto\", \"Turkey Sandwich\", \"Turkey Breast\", \"Ziti\", \"Portobello\", \"Reuben\",\n",
    "        \"Mozzarella Caprese\",  \"Corned Beef\", \"Garlic Bread\", \"Pastrami\", \"Roast Beef\",\n",
    "        \"Tuna Salad\", \"Lasagna\", \"Artichoke Salad\", \"Fettuccini Alfredo\", \"Chicken Parmigiana\",\n",
    "        \"Grilled Veggie\", \"Grilled Veggies\", \"Grilled Vegetable\", \"Mac and Cheese\", \"Macaroni\",  \n",
    "         \"Prosciutto\", \"Salami\"]"
   ]
  },
  {
   "cell_type": "markdown",
   "metadata": {},
   "source": [
    "First, I plan my analysis.  \n",
    "**Here is the idea how to find which menu items have disappointed diners**: I can group reviews by what ment items they mention, and then calculate the average rating for reviews that mentioned each item. I can tell which foods are mentioned in reviews with low scores, so the restaurant can fix the recipe or remove those foods from the menu."
   ]
  },
  {
   "cell_type": "markdown",
   "metadata": {},
   "source": [
    "Second, I will find items in one overview.  \n",
    "As a first step I will write code to extract the foods mentioned in a single review. Since menu items are multiple token long, I will use **PharseMatcher** which can match series of tokens. "
   ]
  },
  {
   "cell_type": "code",
   "execution_count": 4,
   "metadata": {},
   "outputs": [],
   "source": [
    "import spacy\n",
    "from spacy.matcher import PhraseMatcher\n",
    "\n",
    "index_of_review_to_test_on = 627\n",
    "text_to_test_on = data.text.iloc[index_of_review_to_test_on]\n",
    "\n",
    "#Load the SpaCy model\n",
    "nlp = spacy.blank('en')\n",
    "\n",
    "#Create the tokenized version of text_to_test_on\n",
    "review_doc = nlp(text_to_test_on)\n",
    "\n",
    "#Create the PhaseMatcher object. The tokeizer is the first argument. Use attr = 'LOWER' to make consistent capitalization\n",
    "matcher = PhraseMatcher(nlp.vocab, attr='LOWER')\n",
    "\n",
    "#Create a list of tokens for each item in the menu\n",
    "menu_tokens_list = [nlp(item) for item in menu]\n",
    "\n",
    "matcher.add(\"MENU\", menu_tokens_list)\n",
    "\n",
    "#Find mathces in the review_doc\n",
    "matches = matcher(review_doc)"
   ]
  },
  {
   "cell_type": "markdown",
   "metadata": {},
   "source": [
    "Let's print the matches."
   ]
  },
  {
   "cell_type": "code",
   "execution_count": 5,
   "metadata": {},
   "outputs": [
    {
     "name": "stdout",
     "output_type": "stream",
     "text": [
      "Token number 1: meatball\n"
     ]
    }
   ],
   "source": [
    "for match in matches:\n",
    "    print(f\"Token number {match[1]}: {review_doc[match[1]:match[2]]}\")"
   ]
  },
  {
   "cell_type": "markdown",
   "metadata": {},
   "source": [
    "Now we will match on the whole dataset. I will run this matcher over the whole dataset and collect ratings for each menu item. Each review has a rating, ***review.stars*** . For each item that appears in the review text (***review.text***), I will append the review's rating to a list of ratings for that item. The lists are kept in a dictionary ***item_ratings***. "
   ]
  },
  {
   "cell_type": "code",
   "execution_count": 6,
   "metadata": {},
   "outputs": [],
   "source": [
    "from collections import defaultdict\n",
    "\n",
    "#item_ratings is a dictionary of lists.\n",
    "item_ratings = defaultdict(list)\n",
    "\n",
    "for idx, review in data.iterrows():\n",
    "    doc = nlp(review.text)\n",
    "    matches = matcher(doc) \n",
    "    \n",
    "    #Create a set of the items found in thr review text\n",
    "    found_items = set([doc[match[1]:match[2]].lower_ for match in matches])\n",
    "\n",
    "    #Update item_ratings with rating for each item in found_items\n",
    "    #Transform the item strings to lowercase to make it case insensitive\n",
    "    for item in found_items:\n",
    "        item_ratings[item].append(review.stars)\n",
    "    \n",
    "# print(found_items)"
   ]
  },
  {
   "cell_type": "markdown",
   "metadata": {},
   "source": [
    "Using these item ratings, I will find the menu with the worst average rating."
   ]
  },
  {
   "cell_type": "code",
   "execution_count": 7,
   "metadata": {},
   "outputs": [
    {
     "name": "stdout",
     "output_type": "stream",
     "text": [
      "chicken cutlet\n",
      "3.4\n"
     ]
    }
   ],
   "source": [
    "#Calculate the mean ratings for each menu item as a dictionary\n",
    "mean_ratings = {item: sum(ratings)/len(ratings) for item, ratings in item_ratings.items()}\n",
    "\n",
    "#Find the worst item, and write it as a string in worst_text. \n",
    "worst_item = sorted(mean_ratings, key=mean_ratings.get)[0]\n",
    "\n",
    "print(worst_item)\n",
    "print(mean_ratings[worst_item])"
   ]
  },
  {
   "cell_type": "markdown",
   "metadata": {},
   "source": [
    "Similar to the mean ratings, I can calculate the number of reviews for each item."
   ]
  },
  {
   "cell_type": "code",
   "execution_count": 8,
   "metadata": {},
   "outputs": [
    {
     "name": "stdout",
     "output_type": "stream",
     "text": [
      "                    pizza  265\n",
      "                    pasta  206\n",
      "                 meatball  128\n",
      "              cheesesteak   97\n",
      "             cheese steak   76\n",
      "                  cannoli   72\n",
      "                  calzone   72\n",
      "                 eggplant   69\n",
      "                  purista   63\n",
      "                  lasagna   59\n",
      "          italian sausage   53\n",
      "               prosciutto   50\n",
      "             chicken parm   50\n",
      "             garlic bread   39\n",
      "                  gnocchi   37\n",
      "                spaghetti   36\n",
      "                 calzones   35\n",
      "                   pizzas   32\n",
      "                   salami   28\n",
      "            chicken pesto   27\n",
      "             italian beef   25\n",
      "                 tiramisu   21\n",
      "            italian combo   21\n",
      "                     ziti   21\n",
      "         chicken parmesan   19\n",
      "       chicken parmigiana   17\n",
      "               portobello   14\n",
      "           mac and cheese   11\n",
      "           chicken cutlet   10\n",
      "         steak and cheese    9\n",
      "                 pastrami    9\n",
      "               roast beef    7\n",
      "       fettuccini alfredo    6\n",
      "           grilled veggie    6\n",
      "               tuna salad    5\n",
      "          turkey sandwich    5\n",
      "          artichoke salad    5\n",
      "                 macaroni    5\n",
      "            chicken salad    5\n",
      "                   reuben    4\n",
      "    chicken spinach salad    2\n",
      "              corned beef    2\n",
      "            turkey breast    1\n"
     ]
    }
   ],
   "source": [
    "counts = {item: len(ratings) for item, ratings in item_ratings.items()}\n",
    "\n",
    "item_counts = sorted(counts, key=counts.get, reverse=True)\n",
    "for item in item_counts:\n",
    "    print(f\"{item:>25}{counts[item]:>5}\")"
   ]
  },
  {
   "cell_type": "markdown",
   "metadata": {},
   "source": [
    "Here is code to print the 10 best and 10 worst rated items."
   ]
  },
  {
   "cell_type": "code",
   "execution_count": 9,
   "metadata": {},
   "outputs": [
    {
     "name": "stdout",
     "output_type": "stream",
     "text": [
      "Worst rated menu items:\n",
      "chicken cutlet       Ave rating: 3.40 \tcount: 10\n",
      "turkey sandwich      Ave rating: 3.80 \tcount: 5\n",
      "spaghetti            Ave rating: 3.89 \tcount: 36\n",
      "italian beef         Ave rating: 3.92 \tcount: 25\n",
      "tuna salad           Ave rating: 4.00 \tcount: 5\n",
      "macaroni             Ave rating: 4.00 \tcount: 5\n",
      "italian combo        Ave rating: 4.05 \tcount: 21\n",
      "garlic bread         Ave rating: 4.13 \tcount: 39\n",
      "roast beef           Ave rating: 4.14 \tcount: 7\n",
      "eggplant             Ave rating: 4.16 \tcount: 69\n",
      "\n",
      "\n",
      "Best rated menu items:\n",
      "chicken pesto        Ave rating: 4.56 \tcount: 27\n",
      "chicken salad        Ave rating: 4.60 \tcount: 5\n",
      "purista              Ave rating: 4.67 \tcount: 63\n",
      "prosciutto           Ave rating: 4.68 \tcount: 50\n",
      "reuben               Ave rating: 4.75 \tcount: 4\n",
      "steak and cheese     Ave rating: 4.89 \tcount: 9\n",
      "artichoke salad      Ave rating: 5.00 \tcount: 5\n",
      "fettuccini alfredo   Ave rating: 5.00 \tcount: 6\n",
      "turkey breast        Ave rating: 5.00 \tcount: 1\n",
      "corned beef          Ave rating: 5.00 \tcount: 2\n"
     ]
    }
   ],
   "source": [
    "sorted_ratings = sorted(mean_ratings, key=mean_ratings.get)\n",
    "\n",
    "print(\"Worst rated menu items:\")\n",
    "for item in sorted_ratings[:10]:\n",
    "    print(f\"{item:20} Ave rating: {mean_ratings[item]:.2f} \\tcount: {counts[item]}\")\n",
    "    \n",
    "print(\"\\n\\nBest rated menu items:\")\n",
    "for item in sorted_ratings[-10:]:\n",
    "    print(f\"{item:20} Ave rating: {mean_ratings[item]:.2f} \\tcount: {counts[item]}\")"
   ]
  },
  {
   "cell_type": "markdown",
   "metadata": {},
   "source": [
    "After looking at the results I think that it is important to consider the number of reviews when interpreting scores of which items are best and worst and it depends on data that we have. The less data we have for any specific item, the less we can trust that the average rating is the \"real\" sentiment of the customers. This is fairly common sense. If more people tell us the same thing, we are more likely to belive it. As the number of data points increases, the error on the mean decreases as 1 / sqrt(n)."
   ]
  }
 ],
 "metadata": {
  "kernelspec": {
   "display_name": "Python 3",
   "language": "python",
   "name": "python3"
  },
  "language_info": {
   "codemirror_mode": {
    "name": "ipython",
    "version": 3
   },
   "file_extension": ".py",
   "mimetype": "text/x-python",
   "name": "python",
   "nbconvert_exporter": "python",
   "pygments_lexer": "ipython3",
   "version": "3.7.6"
  }
 },
 "nbformat": 4,
 "nbformat_minor": 4
}
